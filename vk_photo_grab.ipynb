{
 "cells": [
  {
   "cell_type": "code",
   "execution_count": 50,
   "metadata": {},
   "outputs": [],
   "source": [
    "import requests\n",
    "from pprint import pprint\n",
    "import os\n",
    "from dotenv import load_dotenv\n",
    "from tqdm import tqdm\n",
    "from functools import reduce"
   ]
  },
  {
   "cell_type": "code",
   "execution_count": 2,
   "metadata": {},
   "outputs": [],
   "source": [
    "load_dotenv()\n",
    "TOKEN_VK = os.getenv('TOKEN_VK')\n",
    "TOKEN_YA = os.getenv('TOKEN_YA')"
   ]
  },
  {
   "cell_type": "code",
   "execution_count": 3,
   "metadata": {},
   "outputs": [],
   "source": [
    "# tokens = {}\n",
    "# with open('Tokens.txt', 'r') as f:\n",
    "#     for line in f:\n",
    "#         env = line.strip().split('=')\n",
    "#         tokens[env[0]] = env[1]\n",
    "# print(tokens)\n",
    "# tokens['TOKEN_YA']"
   ]
  },
  {
   "cell_type": "code",
   "execution_count": null,
   "metadata": {},
   "outputs": [],
   "source": []
  },
  {
   "cell_type": "code",
   "execution_count": 37,
   "metadata": {},
   "outputs": [],
   "source": [
    "myId=718474693\n",
    "API_VER = '5.131'\n",
    "BASE_URL = 'https://api.vk.com/method/'"
   ]
  },
  {
   "cell_type": "code",
   "execution_count": 38,
   "metadata": {},
   "outputs": [],
   "source": [
    "params_base = {\n",
    "            'access_token': TOKEN_VK,\n",
    "            'v': API_VER,\n",
    "        }"
   ]
  },
  {
   "cell_type": "code",
   "execution_count": 39,
   "metadata": {},
   "outputs": [
    {
     "name": "stdout",
     "output_type": "stream",
     "text": [
      "123\n"
     ]
    }
   ],
   "source": [
    "s = ' '\n",
    "if s:\n",
    "    print(123)"
   ]
  },
  {
   "cell_type": "code",
   "execution_count": 46,
   "metadata": {},
   "outputs": [
    {
     "name": "stdout",
     "output_type": "stream",
     "text": [
      "https://api.vk.com/method/photos.get\n",
      "{'owner_id': 1, 'album_id': 'profile', 'extended': 1, 'photo_sizes': 1, 'count': 10, 'access_token': '958eb5d439726565e9333aa30e50e0f937ee432e927f0dbd541c541887d919a7c56f95c04217915c32008', 'v': '5.131'}\n"
     ]
    }
   ],
   "source": [
    "url = BASE_URL + 'photos.get'\n",
    "params = {\n",
    "    'owner_id': 1,\n",
    "    'album_id': 'profile',\n",
    "    'extended': 1,\n",
    "    'photo_sizes': 1,\n",
    "    'count': 10,\n",
    "}\n",
    "params.update(params_base)\n",
    "print(url)\n",
    "print(params)\n"
   ]
  },
  {
   "cell_type": "code",
   "execution_count": 48,
   "metadata": {},
   "outputs": [
    {
     "name": "stdout",
     "output_type": "stream",
     "text": [
      "<Response [200]>\n",
      "{'response': {'count': 9,\n",
      "              'items': [{'album_id': -6,\n",
      "                         'can_comment': 0,\n",
      "                         'comments': {'count': 7492},\n",
      "                         'date': 1296326714,\n",
      "                         'has_tags': False,\n",
      "                         'id': 215187843,\n",
      "                         'likes': {'count': 720909, 'user_likes': 0},\n",
      "                         'owner_id': 1,\n",
      "                         'reposts': {'count': 494},\n",
      "                         'sizes': [{'height': 98,\n",
      "                                    'type': 'm',\n",
      "                                    'url': 'https://sun1-23.userapi.com/impf/c210/v210001/6/53_VwoACy4I.jpg?size=130x97&quality=96&sign=f8f5b706de9bf4cba377c4192ca0faeb&c_uniq_tag=Hq3mDN7NbJvgRd82cKsQpJ45Tze8deKbUX4FZDwVZGQ&type=album',\n",
      "                                    'width': 130},\n",
      "                                   {'height': 57,\n",
      "                                    'type': 's',\n",
      "                                    'url': 'https://sun1-23.userapi.com/impf/c210/v210001/6/53_VwoACy4I.jpg?size=75x56&quality=96&sign=0f95996e59b8fcbc9401cf2eee490863&c_uniq_tag=n0Nz0694UKA7XNGCpAuoR1nfCsENo8SDN8hYKFU2rGI&type=album',\n",
      "                                    'width': 75},\n",
      "                                   {'height': 1913,\n",
      "                                    'type': 'w',\n",
      "                                    'url': 'https://sun1-23.userapi.com/impf/c210/v210001/6/53_VwoACy4I.jpg?size=2560x1913&quality=96&sign=c55f340348a35dd86542875a57ad8537&c_uniq_tag=RvD_7O5cznGnLGO2duPrnqHQrL-0KVHqGZMBe4FtTqI&type=album',\n",
      "                                    'width': 2560},\n",
      "                                   {'height': 452,\n",
      "                                    'type': 'x',\n",
      "                                    'url': 'https://sun1-23.userapi.com/impf/c210/v210001/6/53_VwoACy4I.jpg?size=604x451&quality=96&sign=2ccb459ad7ff644dd735208493600e0d&c_uniq_tag=MtaBjuVH2MucnhwMf2Hq5FLq6QCiExgb8mVeMKxDu5Y&type=album',\n",
      "                                    'width': 604},\n",
      "                                   {'height': 604,\n",
      "                                    'type': 'y',\n",
      "                                    'url': 'https://sun1-23.userapi.com/impf/c210/v210001/6/53_VwoACy4I.jpg?size=807x603&quality=96&sign=2525ad4a8603fbac1b994245a958aedc&c_uniq_tag=9lAL34P9pWLcw1tqP_oAWC7jqI5o_TTKZvKlCbb0Ww8&type=album',\n",
      "                                    'width': 807},\n",
      "                                   {'height': 957,\n",
      "                                    'type': 'z',\n",
      "                                    'url': 'https://sun1-23.userapi.com/impf/c210/v210001/6/53_VwoACy4I.jpg?size=1280x956&quality=96&sign=e01081a0b72b9ab1ee6f53e4d90e1acc&c_uniq_tag=ipvSX7Ustot9mflDpPIuZ6gXBWv9PnQttp41DduHEow&type=album',\n",
      "                                    'width': 1280}],\n",
      "                         'tags': {'count': 0},\n",
      "                         'text': ''},\n",
      "                        {'album_id': -6,\n",
      "                         'can_comment': 0,\n",
      "                         'comments': {'count': 6051},\n",
      "                         'date': 1307883624,\n",
      "                         'has_tags': False,\n",
      "                         'id': 263219656,\n",
      "                         'likes': {'count': 978302, 'user_likes': 0},\n",
      "                         'owner_id': 1,\n",
      "                         'reposts': {'count': 2009},\n",
      "                         'sizes': [{'height': 0,\n",
      "                                    'type': 's',\n",
      "                                    'url': 'https://sun9-40.userapi.com/c9591/u00001/136592355/s_2606f012.jpg',\n",
      "                                    'width': 0},\n",
      "                                   {'height': 0,\n",
      "                                    'type': 'm',\n",
      "                                    'url': 'https://sun9-35.userapi.com/c9591/u00001/136592355/m_672c7bad.jpg',\n",
      "                                    'width': 0},\n",
      "                                   {'height': 0,\n",
      "                                    'type': 'x',\n",
      "                                    'url': 'https://sun9-83.userapi.com/c9591/u00001/136592355/x_dbfafe4c.jpg',\n",
      "                                    'width': 0},\n",
      "                                   {'height': 0,\n",
      "                                    'type': 'y',\n",
      "                                    'url': 'https://sun9-22.userapi.com/c9591/u00001/136592355/y_7c7b186e.jpg',\n",
      "                                    'width': 0},\n",
      "                                   {'height': 0,\n",
      "                                    'type': 'z',\n",
      "                                    'url': 'https://sun9-55.userapi.com/c9591/u00001/136592355/z_17426819.jpg',\n",
      "                                    'width': 0},\n",
      "                                   {'height': 0,\n",
      "                                    'type': 'w',\n",
      "                                    'url': 'https://sun9-88.userapi.com/c9591/u00001/136592355/w_818d6f79.jpg',\n",
      "                                    'width': 0}],\n",
      "                         'tags': {'count': 0},\n",
      "                         'text': ''},\n",
      "                        {'album_id': -6,\n",
      "                         'can_comment': 0,\n",
      "                         'comments': {'count': 4515},\n",
      "                         'date': 1307883759,\n",
      "                         'has_tags': False,\n",
      "                         'id': 263219735,\n",
      "                         'likes': {'count': 873400, 'user_likes': 0},\n",
      "                         'owner_id': 1,\n",
      "                         'reposts': {'count': 778},\n",
      "                         'sizes': [{'height': 0,\n",
      "                                    'type': 's',\n",
      "                                    'url': 'https://sun9-82.userapi.com/c9591/u00001/136592355/s_39db64b7.jpg',\n",
      "                                    'width': 0},\n",
      "                                   {'height': 0,\n",
      "                                    'type': 'm',\n",
      "                                    'url': 'https://sun9-43.userapi.com/c9591/u00001/136592355/m_5f3fd6ac.jpg',\n",
      "                                    'width': 0},\n",
      "                                   {'height': 0,\n",
      "                                    'type': 'x',\n",
      "                                    'url': 'https://sun9-58.userapi.com/c9591/u00001/136592355/x_d51dbfac.jpg',\n",
      "                                    'width': 0},\n",
      "                                   {'height': 0,\n",
      "                                    'type': 'y',\n",
      "                                    'url': 'https://sun9-54.userapi.com/c9591/u00001/136592355/y_8cc51452.jpg',\n",
      "                                    'width': 0},\n",
      "                                   {'height': 0,\n",
      "                                    'type': 'z',\n",
      "                                    'url': 'https://sun9-64.userapi.com/c9591/u00001/136592355/z_90874cc2.jpg',\n",
      "                                    'width': 0},\n",
      "                                   {'height': 0,\n",
      "                                    'type': 'w',\n",
      "                                    'url': 'https://sun9-75.userapi.com/c9591/u00001/136592355/w_f6a60338.jpg',\n",
      "                                    'width': 0}],\n",
      "                         'tags': {'count': 0},\n",
      "                         'text': ''},\n",
      "                        {'album_id': -6,\n",
      "                         'can_comment': 0,\n",
      "                         'comments': {'count': 5502},\n",
      "                         'date': 1328126422,\n",
      "                         'has_tags': False,\n",
      "                         'id': 278184324,\n",
      "                         'likes': {'count': 664044, 'user_likes': 0},\n",
      "                         'owner_id': 1,\n",
      "                         'reposts': {'count': 2666},\n",
      "                         'sizes': [{'height': 0,\n",
      "                                    'type': 's',\n",
      "                                    'url': 'https://sun9-42.userapi.com/c10408/u4172580/-6/s_24887a5a.jpg',\n",
      "                                    'width': 0},\n",
      "                                   {'height': 0,\n",
      "                                    'type': 'm',\n",
      "                                    'url': 'https://sun9-43.userapi.com/c10408/u4172580/-6/m_79ab6f4a.jpg',\n",
      "                                    'width': 0},\n",
      "                                   {'height': 0,\n",
      "                                    'type': 'x',\n",
      "                                    'url': 'https://sun9-79.userapi.com/c10408/u4172580/-6/x_ee97448e.jpg',\n"
     ]
    },
    {
     "name": "stdout",
     "output_type": "stream",
     "text": [
      "                                    'width': 0}],\n",
      "                         'tags': {'count': 0},\n",
      "                         'text': ''},\n",
      "                        {'album_id': -6,\n",
      "                         'can_comment': 0,\n",
      "                         'comments': {'count': 5830},\n",
      "                         'date': 1357150025,\n",
      "                         'has_tags': False,\n",
      "                         'id': 295770249,\n",
      "                         'likes': {'count': 752930, 'user_likes': 0},\n",
      "                         'owner_id': 1,\n",
      "                         'reposts': {'count': 613},\n",
      "                         'sizes': [{'height': 87,\n",
      "                                    'type': 'm',\n",
      "                                    'url': 'https://sun1-14.userapi.com/impf/XlAZfUbA91vSFDBMAeo7I3Hj5TAA52NzmmmAhA/WOJs8DD6bHs.jpg?size=130x87&quality=96&sign=66b5e06f4d101dd3f8d8d472dae73a3f&c_uniq_tag=wDG-cN-kvGPrIZGWnEzkcGdjra3DmgKuuwmCa9xNEYo&type=album',\n",
      "                                    'width': 130},\n",
      "                                   {'height': 87,\n",
      "                                    'type': 'o',\n",
      "                                    'url': 'https://sun1-14.userapi.com/impf/XlAZfUbA91vSFDBMAeo7I3Hj5TAA52NzmmmAhA/WOJs8DD6bHs.jpg?size=130x87&quality=96&sign=66b5e06f4d101dd3f8d8d472dae73a3f&c_uniq_tag=wDG-cN-kvGPrIZGWnEzkcGdjra3DmgKuuwmCa9xNEYo&type=album',\n",
      "                                    'width': 130},\n",
      "                                   {'height': 133,\n",
      "                                    'type': 'p',\n",
      "                                    'url': 'https://sun1-14.userapi.com/impf/XlAZfUbA91vSFDBMAeo7I3Hj5TAA52NzmmmAhA/WOJs8DD6bHs.jpg?size=200x133&quality=96&sign=da759c72b1f85a71482e6b34b38ce3f5&c_uniq_tag=ICkWmKdAYQh4lRtcMyxSFQwlWbqpUUSfl8T889-JlUo&type=album',\n",
      "                                    'width': 200},\n",
      "                                   {'height': 213,\n",
      "                                    'type': 'q',\n",
      "                                    'url': 'https://sun1-14.userapi.com/impf/XlAZfUbA91vSFDBMAeo7I3Hj5TAA52NzmmmAhA/WOJs8DD6bHs.jpg?size=320x213&quality=96&sign=3b2d157a91eac2eb3039886709bdfb9b&c_uniq_tag=YMjEFkAZm_5oPwxqIUA7AZ_ydFd8oVIIaVgAvqeQoiI&type=album',\n",
      "                                    'width': 320},\n",
      "                                   {'height': 340,\n",
      "                                    'type': 'r',\n",
      "                                    'url': 'https://sun1-14.userapi.com/impf/XlAZfUbA91vSFDBMAeo7I3Hj5TAA52NzmmmAhA/WOJs8DD6bHs.jpg?size=510x340&quality=96&crop=2,0,1996,1331&sign=bb9c08a14e30f12a036bcda51bf31209&c_uniq_tag=kagIbCkqaM8xz_PZcOc9CWZtuYztLsYutbH1DuNKfoA&type=album',\n",
      "                                    'width': 510},\n",
      "                                   {'height': 50,\n",
      "                                    'type': 's',\n",
      "                                    'url': 'https://sun1-14.userapi.com/impf/XlAZfUbA91vSFDBMAeo7I3Hj5TAA52NzmmmAhA/WOJs8DD6bHs.jpg?size=75x50&quality=96&sign=18fde4b4b5098f385d15c494a92e0415&c_uniq_tag=SGlsl0NWoWtfgZX5O9efm_IFLxGDhQSO6shIpNS03zA&type=album',\n",
      "                                    'width': 75},\n",
      "                                   {'height': 1331,\n",
      "                                    'type': 'w',\n",
      "                                    'url': 'https://sun1-14.userapi.com/impf/XlAZfUbA91vSFDBMAeo7I3Hj5TAA52NzmmmAhA/WOJs8DD6bHs.jpg?size=2000x1331&quality=96&sign=f0b3e8301169332136afd203251b61a4&c_uniq_tag=kHbzVlu1Ln89DFm_XfzkdzlhGawmjYEfK4w0GBMC5pg&type=album',\n",
      "                                    'width': 2000},\n",
      "                                   {'height': 402,\n",
      "                                    'type': 'x',\n",
      "                                    'url': 'https://sun1-14.userapi.com/impf/XlAZfUbA91vSFDBMAeo7I3Hj5TAA52NzmmmAhA/WOJs8DD6bHs.jpg?size=604x402&quality=96&sign=ae8b4b60283dd51d74150157acc887aa&c_uniq_tag=dV5VSHB2aAY8sCAj5kAP83hGv8l4sgyCTnhdIk4MUkI&type=album',\n",
      "                                    'width': 604},\n",
      "                                   {'height': 537,\n",
      "                                    'type': 'y',\n",
      "                                    'url': 'https://sun1-14.userapi.com/impf/XlAZfUbA91vSFDBMAeo7I3Hj5TAA52NzmmmAhA/WOJs8DD6bHs.jpg?size=807x537&quality=96&sign=77f15b6639a3b290364298093b99d827&c_uniq_tag=VDhfXoHodopPQ0k9E8b9UiTx_IQJaJU7y_-g0ScR24A&type=album',\n",
      "                                    'width': 807},\n",
      "                                   {'height': 852,\n",
      "                                    'type': 'z',\n",
      "                                    'url': 'https://sun1-14.userapi.com/impf/XlAZfUbA91vSFDBMAeo7I3Hj5TAA52NzmmmAhA/WOJs8DD6bHs.jpg?size=1280x852&quality=96&sign=ba15673da8ca651d70fc2c48a055edaf&c_uniq_tag=Ij-HcAwlLtXHovmkprHqLyKni9gPI6_mSV6TdYIhf20&type=album',\n",
      "                                    'width': 1280}],\n",
      "                         'tags': {'count': 0},\n",
      "                         'text': ''},\n",
      "                        {'album_id': -6,\n",
      "                         'can_comment': 0,\n",
      "                         'comments': {'count': 9944},\n",
      "                         'date': 1397673678,\n",
      "                         'has_tags': False,\n",
      "                         'id': 327778612,\n",
      "                         'likes': {'count': 598372, 'user_likes': 0},\n",
      "                         'owner_id': 1,\n",
      "                         'reposts': {'count': 603},\n",
      "                         'sizes': [{'height': 0,\n",
      "                                    'type': 's',\n",
      "                                    'url': 'https://sun9-58.userapi.com/c9591/u00001/136592355/s_47267f71.jpg',\n",
      "                                    'width': 0},\n",
      "                                   {'height': 0,\n",
      "                                    'type': 'm',\n",
      "                                    'url': 'https://sun9-61.userapi.com/c9591/u00001/136592355/m_dc54094a.jpg',\n",
      "                                    'width': 0},\n",
      "                                   {'height': 0,\n",
      "                                    'type': 'x',\n",
      "                                    'url': 'https://sun9-81.userapi.com/c9591/u00001/136592355/x_3216ccc1.jpg',\n",
      "                                    'width': 0},\n",
      "                                   {'height': 0,\n",
      "                                    'type': 'y',\n",
      "                                    'url': 'https://sun9-62.userapi.com/c9591/u00001/136592355/y_e10ee835.jpg',\n",
      "                                    'width': 0},\n",
      "                                   {'height': 0,\n",
      "                                    'type': 'z',\n",
      "                                    'url': 'https://sun9-1.userapi.com/c9591/u00001/136592355/z_a8fd75ba.jpg',\n",
      "                                    'width': 0},\n",
      "                                   {'height': 0,\n",
      "                                    'type': 'w',\n",
      "                                    'url': 'https://sun9-63.userapi.com/c9591/u00001/136592355/w_62aef149.jpg',\n",
      "                                    'width': 0}],\n",
      "                         'tags': {'count': 0},\n",
      "                         'text': ''},\n",
      "                        {'album_id': -6,\n",
      "                         'can_comment': 0,\n",
      "                         'comments': {'count': 24903},\n",
      "                         'date': 1345755713,\n",
      "                         'has_tags': False,\n",
      "                         'id': 288668576,\n",
      "                         'likes': {'count': 1473651, 'user_likes': 0},\n",
      "                         'owner_id': 1,\n",
      "                         'reposts': {'count': 1596},\n",
      "                         'sizes': [{'height': 130,\n",
      "                                    'type': 'm',\n",
      "                                    'url': 'https://sun1-20.userapi.com/impf/byTiuiCzlcw-7HQqNI8VeOhaKVPrGm-Sdt9wsQ/banGDBotKVM.jpg?size=95x130&quality=96&sign=0b0c16f3115a4555fb1c0625b83cf9a0&c_uniq_tag=nJRjgUb_PeSQPnoaHBt8nK9jR5EMO3AKjI6I_SkDjP4&type=album',\n",
      "                                    'width': 95},\n",
      "                                   {'height': 178,\n",
      "                                    'type': 'o',\n",
      "                                    'url': 'https://sun1-20.userapi.com/impf/byTiuiCzlcw-7HQqNI8VeOhaKVPrGm-Sdt9wsQ/banGDBotKVM.jpg?size=130x178&quality=96&sign=61fd97a48e4a2cb215eb68ca384a32f4&c_uniq_tag=zchIvYvJaBNnxoC0ZS4uZrhfcKh2cJOUCIFQQyUku2o&type=album',\n",
      "                                    'width': 130},\n",
      "                                   {'height': 273,\n"
     ]
    },
    {
     "name": "stdout",
     "output_type": "stream",
     "text": [
      "                                    'type': 'p',\n",
      "                                    'url': 'https://sun1-20.userapi.com/impf/byTiuiCzlcw-7HQqNI8VeOhaKVPrGm-Sdt9wsQ/banGDBotKVM.jpg?size=200x274&quality=96&sign=f41c57c4a5f3a77d26d2ba6c2a5d7b6e&c_uniq_tag=10cBTzFVVoy6aTTxrnHtMMZIGSlItHLXlutltL1i7v0&type=album',\n",
      "                                    'width': 200},\n",
      "                                   {'height': 438,\n",
      "                                    'type': 'q',\n",
      "                                    'url': 'https://sun1-20.userapi.com/impf/byTiuiCzlcw-7HQqNI8VeOhaKVPrGm-Sdt9wsQ/banGDBotKVM.jpg?size=320x438&quality=96&sign=78f0bba6a75c96ea3e6c961efa403864&c_uniq_tag=chPiCfT6sV2uGYg8r6qOpwNTpX05rTdvCPHGDPnDoRI&type=album',\n",
      "                                    'width': 320},\n",
      "                                   {'height': 698,\n",
      "                                    'type': 'r',\n",
      "                                    'url': 'https://sun1-20.userapi.com/impf/byTiuiCzlcw-7HQqNI8VeOhaKVPrGm-Sdt9wsQ/banGDBotKVM.jpg?size=510x698&quality=96&sign=aac09b1809f94358c17c8ed71399a00f&c_uniq_tag=BKJxIgpOPmxmHohOircfkhBOcmo3Pv68Czu4uM0IOZE&type=album',\n",
      "                                    'width': 510},\n",
      "                                   {'height': 75,\n",
      "                                    'type': 's',\n",
      "                                    'url': 'https://sun1-20.userapi.com/impf/byTiuiCzlcw-7HQqNI8VeOhaKVPrGm-Sdt9wsQ/banGDBotKVM.jpg?size=55x75&quality=96&sign=f8063170b8ff44789b0389d1bb06f223&c_uniq_tag=K0uePx0kT8dxaw1Df7fnjiQrzFQOkdMIVJCGo7xELnc&type=album',\n",
      "                                    'width': 55},\n",
      "                                   {'height': 604,\n",
      "                                    'type': 'x',\n",
      "                                    'url': 'https://sun1-20.userapi.com/impf/byTiuiCzlcw-7HQqNI8VeOhaKVPrGm-Sdt9wsQ/banGDBotKVM.jpg?size=442x604&quality=96&sign=725287e2b31bd24a68ed406db756f2c8&c_uniq_tag=mToK7kJISUASbEm_mY0-JRMgCxCfVlpdT2cHyL9FFOU&type=album',\n",
      "                                    'width': 442},\n",
      "                                   {'height': 807,\n",
      "                                    'type': 'y',\n",
      "                                    'url': 'https://sun1-20.userapi.com/impf/byTiuiCzlcw-7HQqNI8VeOhaKVPrGm-Sdt9wsQ/banGDBotKVM.jpg?size=590x807&quality=96&sign=7a4907b83869b89ee6fdfa4c8958dc78&c_uniq_tag=7r-QJpxW3NuOqEowwQuy4wnCYPSL6f33KhEBtF-kJZE&type=album',\n",
      "                                    'width': 590},\n",
      "                                   {'height': 1000,\n",
      "                                    'type': 'z',\n",
      "                                    'url': 'https://sun1-20.userapi.com/impf/byTiuiCzlcw-7HQqNI8VeOhaKVPrGm-Sdt9wsQ/banGDBotKVM.jpg?size=731x1000&quality=96&sign=432b2466a268e6e51f46eb47c80ce26a&c_uniq_tag=IraiqwN4-ugqtJPjK4lTRIFF5_YM2KEiJGJmVi9HjtY&type=album',\n",
      "                                    'width': 731}],\n",
      "                         'tags': {'count': 0},\n",
      "                         'text': ''},\n",
      "                        {'album_id': -6,\n",
      "                         'can_comment': 0,\n",
      "                         'comments': {'count': 212163},\n",
      "                         'date': 1438687279,\n",
      "                         'has_tags': False,\n",
      "                         'id': 376599151,\n",
      "                         'likes': {'count': 573958, 'user_likes': 0},\n",
      "                         'owner_id': 1,\n",
      "                         'reposts': {'count': 322},\n",
      "                         'sizes': [{'height': 86,\n",
      "                                    'type': 'm',\n",
      "                                    'url': 'https://sun1-84.userapi.com/impf/c629231/v629231001/c52f/7MhreDjLQL8.jpg?size=130x86&quality=96&sign=a6c3b0766f5888374be915ee487d2082&c_uniq_tag=U6Gq_kGSS5Brj71g3UA4aimTJ2VcJ1OU7ribo3akNT0&type=album',\n",
      "                                    'width': 130},\n",
      "                                   {'height': 87,\n",
      "                                    'type': 'o',\n",
      "                                    'url': 'https://sun1-84.userapi.com/impf/c629231/v629231001/c52f/7MhreDjLQL8.jpg?size=130x87&quality=96&crop=16,0,2527,1691&sign=564de3f0728be8362605ceed2f77dc15&c_uniq_tag=yARdk5CDi7Szz8d989Fp7hkDKqaw-luV-MvBJfS32RM&type=album',\n",
      "                                    'width': 130},\n",
      "                                   {'height': 133,\n",
      "                                    'type': 'p',\n",
      "                                    'url': 'https://sun1-84.userapi.com/impf/c629231/v629231001/c52f/7MhreDjLQL8.jpg?size=200x133&quality=96&crop=8,0,2543,1691&sign=a5fb35d6a0dfc45c6bc1b960d948ada5&c_uniq_tag=oRPM0In2_pWfNJUrBdp-135LJ0pBZvJ34SMX3csoAyg&type=album',\n",
      "                                    'width': 200},\n",
      "                                   {'height': 213,\n",
      "                                    'type': 'q',\n",
      "                                    'url': 'https://sun1-84.userapi.com/impf/c629231/v629231001/c52f/7MhreDjLQL8.jpg?size=320x213&quality=96&crop=10,0,2540,1691&sign=6d7a47e5f65d9a96b91e95796ed4f7eb&c_uniq_tag=hykYaVA-J-k1jVdGiNqHm0LRp0Xfcgod-BDz-t-V-eo&type=album',\n",
      "                                    'width': 320},\n",
      "                                   {'height': 340,\n",
      "                                    'type': 'r',\n",
      "                                    'url': 'https://sun1-84.userapi.com/impf/c629231/v629231001/c52f/7MhreDjLQL8.jpg?size=510x340&quality=96&crop=12,0,2536,1691&sign=4febbd3ed9613ec89f69e0f85b5b4e2a&c_uniq_tag=k3FVHvcOGUQDBChnqKgNJenebTEh4zRQDld1Fq2_E40&type=album',\n",
      "                                    'width': 510},\n",
      "                                   {'height': 50,\n",
      "                                    'type': 's',\n",
      "                                    'url': 'https://sun1-84.userapi.com/impf/c629231/v629231001/c52f/7MhreDjLQL8.jpg?size=75x50&quality=96&sign=99e953126340d62048b655060aed1b05&c_uniq_tag=QhFn79mYfAmW_uf92OrUMYOKRWI-dki1tGoDnREuL6k&type=album',\n",
      "                                    'width': 75},\n",
      "                                   {'height': 1691,\n",
      "                                    'type': 'w',\n",
      "                                    'url': 'https://sun1-84.userapi.com/impf/c629231/v629231001/c52f/7MhreDjLQL8.jpg?size=2560x1691&quality=96&sign=b130387db30bbf91d905f2d36ea9b832&c_uniq_tag=7-bwDbvAsp9FIBcRe8O_1v21KH9uOA0ebNAUwWIfrrY&type=album',\n",
      "                                    'width': 2560},\n",
      "                                   {'height': 399,\n",
      "                                    'type': 'x',\n",
      "                                    'url': 'https://sun1-84.userapi.com/impf/c629231/v629231001/c52f/7MhreDjLQL8.jpg?size=604x399&quality=96&sign=e380f6cde58ac7b69a709a9c82f548fc&c_uniq_tag=b-Xsm-ZXR_YuudiuPxDWC53rkynkltYAUTGmgJ1EpNg&type=album',\n",
      "                                    'width': 604},\n",
      "                                   {'height': 533,\n",
      "                                    'type': 'y',\n",
      "                                    'url': 'https://sun1-84.userapi.com/impf/c629231/v629231001/c52f/7MhreDjLQL8.jpg?size=807x533&quality=96&sign=b8bd9b1da2fc8006dba7ec620c96c010&c_uniq_tag=bhMWLFV564k4dpEkZPwA4ASNQzJBPf6eu229xxOUB-A&type=album',\n",
      "                                    'width': 807},\n",
      "                                   {'height': 845,\n",
      "                                    'type': 'z',\n",
      "                                    'url': 'https://sun1-84.userapi.com/impf/c629231/v629231001/c52f/7MhreDjLQL8.jpg?size=1280x845&quality=96&sign=f317129511131e15263201da4b670e2a&c_uniq_tag=uSrkn0ZtHETlAVyV48qRklwWUyFC19A_aLYNDYKLAzg&type=album',\n",
      "                                    'width': 1280}],\n",
      "                         'tags': {'count': 0},\n",
      "                         'text': ''},\n",
      "                        {'album_id': -6,\n",
      "                         'can_comment': 0,\n",
      "                         'comments': {'count': 53045},\n",
      "                         'date': 1491227749,\n",
      "                         'has_tags': False,\n",
      "                         'id': 456264771,\n",
      "                         'likes': {'count': 251514, 'user_likes': 0},\n",
      "                         'owner_id': 1,\n",
      "                         'reposts': {'count': 190},\n",
      "                         'sizes': [{'height': 130,\n",
      "                                    'type': 'm',\n"
     ]
    },
    {
     "name": "stdout",
     "output_type": "stream",
     "text": [
      "                                    'url': 'https://sun1-20.userapi.com/impf/c836333/v836333001/31189/8To0r3d-6iQ.jpg?size=117x130&quality=96&sign=95fd9d00d0ddd4ce6dbd36963ebc9328&c_uniq_tag=y2qoktBWZORWo9B_n_t34wozD79e210ZaL5ZyPcMxxA&type=album',\n",
      "                                    'width': 116},\n",
      "                                   {'height': 145,\n",
      "                                    'type': 'o',\n",
      "                                    'url': 'https://sun1-20.userapi.com/impf/c836333/v836333001/31189/8To0r3d-6iQ.jpg?size=130x145&quality=96&sign=44bdc1589d18feee42663ee40963329a&c_uniq_tag=4zwSd0RoHlqwQ3HdndJZOSwUkqgjf1SISnzqcYF4dy0&type=album',\n",
      "                                    'width': 130},\n",
      "                                   {'height': 223,\n",
      "                                    'type': 'p',\n",
      "                                    'url': 'https://sun1-20.userapi.com/impf/c836333/v836333001/31189/8To0r3d-6iQ.jpg?size=200x223&quality=96&sign=4ae05c340a0505aa1297d6ae885ff733&c_uniq_tag=sKck8C5kJI8-W00PrlYiZCNN5KYIkY7zE7UnnrBIwtU&type=album',\n",
      "                                    'width': 200},\n",
      "                                   {'height': 357,\n",
      "                                    'type': 'q',\n",
      "                                    'url': 'https://sun1-20.userapi.com/impf/c836333/v836333001/31189/8To0r3d-6iQ.jpg?size=320x357&quality=96&sign=7cdd1bc695aa084a405cb329be6fc403&c_uniq_tag=J4SPbGVleDkeeWVfsBigvh-Qrgygk_GmK7CyEkW_bGk&type=album',\n",
      "                                    'width': 320},\n",
      "                                   {'height': 569,\n",
      "                                    'type': 'r',\n",
      "                                    'url': 'https://sun1-20.userapi.com/impf/c836333/v836333001/31189/8To0r3d-6iQ.jpg?size=510x569&quality=96&sign=efdb3bec05a7437fe2beef638bf74567&c_uniq_tag=WXkW7hTi4wyYi-gtPhEGCSWrmgva5hpHJCTMGNp0Nto&type=album',\n",
      "                                    'width': 510},\n",
      "                                   {'height': 75,\n",
      "                                    'type': 's',\n",
      "                                    'url': 'https://sun1-20.userapi.com/impf/c836333/v836333001/31189/8To0r3d-6iQ.jpg?size=67x75&quality=96&sign=25c8f9f8da379159c34e5e96a0c52aa5&c_uniq_tag=CcsKqv05WlKsytTNLGj0Sgtk5fU50nK8Mrxr3toLU2Y&type=album',\n",
      "                                    'width': 67},\n",
      "                                   {'height': 604,\n",
      "                                    'type': 'x',\n",
      "                                    'url': 'https://sun1-20.userapi.com/impf/c836333/v836333001/31189/8To0r3d-6iQ.jpg?size=541x604&quality=96&sign=dbb08a450f5ebe04a71a1e5b168ae382&c_uniq_tag=UvcIEZh0rTP3donKRq0ojrUJt6D2mxrN32Ubo9-77C8&type=album',\n",
      "                                    'width': 541},\n",
      "                                   {'height': 807,\n",
      "                                    'type': 'y',\n",
      "                                    'url': 'https://sun1-20.userapi.com/impf/c836333/v836333001/31189/8To0r3d-6iQ.jpg?size=723x807&quality=96&sign=f37004deceadb5aa6e25f67cf9c38f06&c_uniq_tag=-KP-0K4ivVOOMlS3QIHFLIlVB1JawW5IfmMGhnXtc48&type=album',\n",
      "                                    'width': 723},\n",
      "                                   {'height': 1080,\n",
      "                                    'type': 'z',\n",
      "                                    'url': 'https://sun1-20.userapi.com/impf/c836333/v836333001/31189/8To0r3d-6iQ.jpg?size=968x1080&quality=96&sign=f52327ecbbdc4365cb1897eb50d56f0b&c_uniq_tag=9MGd9HrYIte-anCZjuC0DtNZP3x8v9wtStBwcPWSPAU&type=album',\n",
      "                                    'width': 968}],\n",
      "                         'tags': {'count': 0},\n",
      "                         'text': ''}]}}\n"
     ]
    }
   ],
   "source": [
    "response = requests.get(url, params=params)\n",
    "print(response)\n",
    "pprint(response.json())"
   ]
  },
  {
   "cell_type": "code",
   "execution_count": 49,
   "metadata": {},
   "outputs": [],
   "source": [
    "photos_count = response.json()['response']['count']\n",
    "photos_items = response.json()['response']['items']"
   ]
  },
  {
   "cell_type": "code",
   "execution_count": 62,
   "metadata": {},
   "outputs": [
    {
     "name": "stdout",
     "output_type": "stream",
     "text": [
      "{'1': 123,\n",
      " 'height': 957,\n",
      " 'type': 'z',\n",
      " 'url': 'https://sun1-23.userapi.com/impf/c210/v210001/6/53_VwoACy4I.jpg?size=1280x956&quality=96&sign=e01081a0b72b9ab1ee6f53e4d90e1acc&c_uniq_tag=ipvSX7Ustot9mflDpPIuZ6gXBWv9PnQttp41DduHEow&type=album',\n",
      " 'width': 1280}\n",
      "{'1': 123,\n",
      " 'height': 0,\n",
      " 'type': 'w',\n",
      " 'url': 'https://sun9-88.userapi.com/c9591/u00001/136592355/w_818d6f79.jpg',\n",
      " 'width': 0}\n",
      "{'1': 123,\n",
      " 'height': 0,\n",
      " 'type': 'w',\n",
      " 'url': 'https://sun9-75.userapi.com/c9591/u00001/136592355/w_f6a60338.jpg',\n",
      " 'width': 0}\n",
      "{'1': 123,\n",
      " 'height': 0,\n",
      " 'type': 'x',\n",
      " 'url': 'https://sun9-79.userapi.com/c10408/u4172580/-6/x_ee97448e.jpg',\n",
      " 'width': 0}\n",
      "{'1': 123,\n",
      " 'height': 852,\n",
      " 'type': 'z',\n",
      " 'url': 'https://sun1-14.userapi.com/impf/XlAZfUbA91vSFDBMAeo7I3Hj5TAA52NzmmmAhA/WOJs8DD6bHs.jpg?size=1280x852&quality=96&sign=ba15673da8ca651d70fc2c48a055edaf&c_uniq_tag=Ij-HcAwlLtXHovmkprHqLyKni9gPI6_mSV6TdYIhf20&type=album',\n",
      " 'width': 1280}\n",
      "{'1': 123,\n",
      " 'height': 0,\n",
      " 'type': 'w',\n",
      " 'url': 'https://sun9-63.userapi.com/c9591/u00001/136592355/w_62aef149.jpg',\n",
      " 'width': 0}\n",
      "{'1': 123,\n",
      " 'height': 1000,\n",
      " 'type': 'z',\n",
      " 'url': 'https://sun1-20.userapi.com/impf/byTiuiCzlcw-7HQqNI8VeOhaKVPrGm-Sdt9wsQ/banGDBotKVM.jpg?size=731x1000&quality=96&sign=432b2466a268e6e51f46eb47c80ce26a&c_uniq_tag=IraiqwN4-ugqtJPjK4lTRIFF5_YM2KEiJGJmVi9HjtY&type=album',\n",
      " 'width': 731}\n",
      "{'1': 123,\n",
      " 'height': 845,\n",
      " 'type': 'z',\n",
      " 'url': 'https://sun1-84.userapi.com/impf/c629231/v629231001/c52f/7MhreDjLQL8.jpg?size=1280x845&quality=96&sign=f317129511131e15263201da4b670e2a&c_uniq_tag=uSrkn0ZtHETlAVyV48qRklwWUyFC19A_aLYNDYKLAzg&type=album',\n",
      " 'width': 1280}\n",
      "{'1': 123,\n",
      " 'height': 1080,\n",
      " 'type': 'z',\n",
      " 'url': 'https://sun1-20.userapi.com/impf/c836333/v836333001/31189/8To0r3d-6iQ.jpg?size=968x1080&quality=96&sign=f52327ecbbdc4365cb1897eb50d56f0b&c_uniq_tag=9MGd9HrYIte-anCZjuC0DtNZP3x8v9wtStBwcPWSPAU&type=album',\n",
      " 'width': 968}\n"
     ]
    }
   ],
   "source": [
    "for item in photos_items:\n",
    "    a=item['sizes'][-1]\n",
    "    a.update({'1':123})\n",
    "    pprint(a)\n"
   ]
  },
  {
   "cell_type": "code",
   "execution_count": 9,
   "metadata": {},
   "outputs": [],
   "source": [
    "photos = []\n",
    "names = []\n",
    "for item in photos_items:\n",
    "    \n",
    "#     print(f\"likes={item['likes']['count']}\")\n",
    "#     print(f\"date={item['date']}\")\n",
    "    max_pixels = 0\n",
    "    url = ''\n",
    "    size = ''\n",
    "    for sz in item['sizes']:\n",
    "        pixels = sz['height']*sz['width']\n",
    "        if pixels>max_pixels:\n",
    "            max_pixels = pixels\n",
    "            url = sz['url']\n",
    "            size = sz['type']\n",
    "    name = str(item['likes']['count'])\n",
    "    if name in names:\n",
    "        name = f\"{name}_{item['date']}\"\n",
    "\n",
    "    names.append(name)\n",
    "    \n",
    "    photos.append({'url': url,\n",
    "                   'file_name': name+'.jpg',\n",
    "                   'size': size,\n",
    "                   'date': item['date'],\n",
    "                  })\n"
   ]
  },
  {
   "cell_type": "code",
   "execution_count": 10,
   "metadata": {
    "scrolled": true
   },
   "outputs": [
    {
     "name": "stdout",
     "output_type": "stream",
     "text": [
      "[{'date': 1562944607,\n",
      "  'file_name': '17.jpg',\n",
      "  'size': 'r',\n",
      "  'url': 'https://sun9-28.userapi.com/impf/c850732/v850732336/16fa43/3b7pxN3vzmI.jpg?size=400x400&quality=96&sign=e43d16ae62020287b2e5ae9073d3f878&c_uniq_tag=5rB9bM19KvnvwLaYvsXilF2uT-MWISzsiNrvNJH65UQ&type=album'},\n",
      " {'date': 1593979270,\n",
      "  'file_name': '11.jpg',\n",
      "  'size': 'y',\n",
      "  'url': 'https://sun9-77.userapi.com/impf/oFiwQBOqvXfWUtxWvqxcMyvSeMIZhiK3ki9Ssw/1J6DiX6JDr8.jpg?size=800x800&quality=96&sign=bba662d0ca0bcff8ed8e4ab5e5b5266e&c_uniq_tag=9O-sXQPZSOpED9Mdsoml0by9HkDzYVIdQRX5htRO9_w&type=album'},\n",
      " {'date': 1594036409,\n",
      "  'file_name': '6.jpg',\n",
      "  'size': 'y',\n",
      "  'url': 'https://sun9-86.userapi.com/impf/9ArHk5QgSaCV92n0W_V0AiB9qcVaaF2dSBGhKQ/LgiiF_lk2DM.jpg?size=600x800&quality=96&sign=a44427270a7788fdb76b0e2589d51cb5&c_uniq_tag=Z2_Y9Kv7_OViwTUaM3bpDBIMDjhy3tNefi1L34Ns5Z0&type=album'},\n",
      " {'date': 1594036429,\n",
      "  'file_name': '9.jpg',\n",
      "  'size': 'y',\n",
      "  'url': 'https://sun9-86.userapi.com/impf/9ArHk5QgSaCV92n0W_V0AiB9qcVaaF2dSBGhKQ/LgiiF_lk2DM.jpg?size=600x800&quality=96&sign=a44427270a7788fdb76b0e2589d51cb5&c_uniq_tag=Z2_Y9Kv7_OViwTUaM3bpDBIMDjhy3tNefi1L34Ns5Z0&type=album'},\n",
      " {'date': 1594036496,\n",
      "  'file_name': '9_1594036496.jpg',\n",
      "  'size': 'w',\n",
      "  'url': 'https://sun9-48.userapi.com/impf/hZBImqkCXbzy3VGIhn30Jj4P3RWurerkaZZSnw/oDCgWwpSe34.jpg?size=788x1096&quality=96&sign=c4dd55f91ae178aa6f6ad6c14ce6cd4c&c_uniq_tag=u7Tqeio-kEtrWqLTPywWPFhhGHGuWuqONBJ7tdKCUAs&type=album'}]\n"
     ]
    }
   ],
   "source": [
    "pprint(photos)"
   ]
  },
  {
   "cell_type": "markdown",
   "metadata": {},
   "source": [
    "# create folder on YaDisk \n"
   ]
  },
  {
   "cell_type": "code",
   "execution_count": 11,
   "metadata": {},
   "outputs": [],
   "source": [
    "BASE_URL = \"https://cloud-api.yandex.net:443\"\n",
    "header =  {\n",
    "            'Content-Type': 'application/json',\n",
    "            'Authorization': f'OAuth {TOKEN_YA}'\n",
    "        }"
   ]
  },
  {
   "cell_type": "code",
   "execution_count": 15,
   "metadata": {},
   "outputs": [],
   "source": [
    "def create_folder_ya_disk(path):\n",
    "    resources_url = BASE_URL + \"/v1/disk/resources\"\n",
    "    params = {\"path\": path}\n",
    "    response = requests.get(resources_url, headers=header, params=params)\n",
    "    print(response)\n",
    "    # если нет каталога, то создадим его\n",
    "    if response.status_code == 404:\n",
    "        print(f\"Trying to create folder {path}\")\n",
    "        response = requests.put(resources_url, headers=header, params=params)\n",
    "        print(response)\n",
    "        if response.status_code == 201:\n",
    "            print(f\"The folder '{path}' has created\")\n",
    "    "
   ]
  },
  {
   "cell_type": "code",
   "execution_count": 16,
   "metadata": {},
   "outputs": [],
   "source": [
    "path=\"Netology1/test\"\n",
    "# path=\"Netology\""
   ]
  },
  {
   "cell_type": "code",
   "execution_count": 17,
   "metadata": {},
   "outputs": [
    {
     "name": "stdout",
     "output_type": "stream",
     "text": [
      "('Netology1', 'test')\n",
      "<Response [200]>\n",
      "<Response [200]>\n"
     ]
    }
   ],
   "source": [
    "full_path = ''\n",
    "folders = os.path.split(path)\n",
    "print(folders)\n",
    "for folder in folders:\n",
    "    full_path = full_path+'/'+folder #os.path.join(full_path,folder)\n",
    "    create_folder_ya_disk(full_path)\n",
    "# print(full_path)"
   ]
  },
  {
   "cell_type": "code",
   "execution_count": null,
   "metadata": {},
   "outputs": [],
   "source": []
  },
  {
   "cell_type": "code",
   "execution_count": null,
   "metadata": {},
   "outputs": [],
   "source": []
  },
  {
   "cell_type": "code",
   "execution_count": 254,
   "metadata": {},
   "outputs": [],
   "source": [
    "\"\"\"Получить ссылку на яндекс диск для загрузки файла\"\"\"\n",
    "upload_url = BASE_URL + \"/v1/disk/resources/upload\"\n",
    "dst_path = path+'/'+'pic.jpg'\n",
    "params = {\"path\": dst_path, \"overwrite\": \"true\"}\n",
    "response = requests.get(upload_url, headers=header, params=params)"
   ]
  },
  {
   "cell_type": "code",
   "execution_count": 255,
   "metadata": {},
   "outputs": [
    {
     "name": "stdout",
     "output_type": "stream",
     "text": [
      "Netology/pic.jpg\n",
      "<Response [200]>\n",
      "{'operation_id': 'e178400dc2c2a9896ca9454d9db1ea14e2638e7abf8147d86718fe4bb8b0347b', 'href': 'https://uploader36o.disk.yandex.net:443/upload-target/20220410T150834.657.utd.3x5keh7rs0pt4fw1dx3imsq0m-k36o.26260517', 'method': 'PUT', 'templated': False}\n"
     ]
    }
   ],
   "source": [
    "print(dst_path)\n",
    "print(response)\n",
    "print(response.json())"
   ]
  },
  {
   "cell_type": "code",
   "execution_count": 256,
   "metadata": {},
   "outputs": [
    {
     "name": "stdout",
     "output_type": "stream",
     "text": [
      "https://uploader36o.disk.yandex.net:443/upload-target/20220410T150834.657.utd.3x5keh7rs0pt4fw1dx3imsq0m-k36o.26260517\n"
     ]
    }
   ],
   "source": [
    "href = response.json()['href']\n",
    "print(href)"
   ]
  },
  {
   "cell_type": "code",
   "execution_count": null,
   "metadata": {},
   "outputs": [],
   "source": []
  },
  {
   "cell_type": "code",
   "execution_count": null,
   "metadata": {},
   "outputs": [],
   "source": []
  },
  {
   "cell_type": "code",
   "execution_count": 25,
   "metadata": {},
   "outputs": [],
   "source": [
    "\"\"\"загружает файл на яндекс диск по url\"\"\"\n",
    "def upload_file_to_yadisk(src_path, dst_path, verbose=False):\n",
    "    upload_url = BASE_URL + \"/v1/disk/resources/upload\"\n",
    "    params = {\n",
    "        \"path\": dst_path, \n",
    "        \"url\": src_path,\n",
    "        \"fields\": \"name\"\n",
    "    }\n",
    "    if verbose:\n",
    "        pprint(params)\n",
    "    response = requests.post(upload_url, headers=header, params=params)\n",
    "#     response = requests.put(upload_url, headers=header, params=params)\n",
    "    if verbose:\n",
    "        print(response)\n",
    "    response.raise_for_status()\n",
    "    return response"
   ]
  },
  {
   "cell_type": "code",
   "execution_count": 26,
   "metadata": {},
   "outputs": [
    {
     "name": "stdout",
     "output_type": "stream",
     "text": [
      "{'href': 'https://cloud-api.yandex.net/v1/disk/operations/8ed13675d8efddf5a669979e0572a6b21a3bf7fcf84b295f6eb5642d67d9cf0d',\n",
      " 'method': 'GET',\n",
      " 'templated': False}\n",
      "<Response [202]>\n",
      "{'href': 'https://cloud-api.yandex.net/v1/disk/operations/32d4a9daf17f204fa85da13049ba6a6643fd7595daef7259882f0ca9430b736d',\n",
      " 'method': 'GET',\n",
      " 'templated': False}\n",
      "<Response [202]>\n",
      "{'href': 'https://cloud-api.yandex.net/v1/disk/operations/37bf6eb3faddda27ff0762964bb17cc433e23c9d7d1f4c1772f37033e7d04c5e',\n",
      " 'method': 'GET',\n",
      " 'templated': False}\n",
      "<Response [202]>\n",
      "{'href': 'https://cloud-api.yandex.net/v1/disk/operations/0a436f4c7eac028605750e8f3e1472de2a889123d6391d51462c1f864bb59c8f',\n",
      " 'method': 'GET',\n",
      " 'templated': False}\n",
      "<Response [202]>\n",
      "{'href': 'https://cloud-api.yandex.net/v1/disk/operations/5c6bc9cc9d95c18bf2432ac1224645abb49f0ed6d325337fbfa1985fe5c8abe0',\n",
      " 'method': 'GET',\n",
      " 'templated': False}\n",
      "<Response [202]>\n"
     ]
    }
   ],
   "source": [
    "info = []\n",
    "for photo in photos:\n",
    "    dst_path = path+'/'+photo['file_name']\n",
    "    src_path = photo['url']\n",
    "    response = upload_file_to_yadisk(src_path=src_path, dst_path=dst_path)\n",
    "    pprint(response.json())\n",
    "    if response.status_code == 202:\n",
    "        info.append(photo)"
   ]
  },
  {
   "cell_type": "code",
   "execution_count": 35,
   "metadata": {},
   "outputs": [
    {
     "name": "stdout",
     "output_type": "stream",
     "text": [
      "[{'date': 1562944607,\n",
      "  'file_name': '17.jpg',\n",
      "  'size': 'r',\n",
      "  'url': 'https://sun9-28.userapi.com/impf/c850732/v850732336/16fa43/3b7pxN3vzmI.jpg?size=400x400&quality=96&sign=e43d16ae62020287b2e5ae9073d3f878&c_uniq_tag=5rB9bM19KvnvwLaYvsXilF2uT-MWISzsiNrvNJH65UQ&type=album'},\n",
      " {'date': 1593979270,\n",
      "  'file_name': '11.jpg',\n",
      "  'size': 'y',\n",
      "  'url': 'https://sun9-77.userapi.com/impf/oFiwQBOqvXfWUtxWvqxcMyvSeMIZhiK3ki9Ssw/1J6DiX6JDr8.jpg?size=800x800&quality=96&sign=bba662d0ca0bcff8ed8e4ab5e5b5266e&c_uniq_tag=9O-sXQPZSOpED9Mdsoml0by9HkDzYVIdQRX5htRO9_w&type=album'},\n",
      " {'date': 1594036409,\n",
      "  'file_name': '6.jpg',\n",
      "  'size': 'y',\n",
      "  'url': 'https://sun9-86.userapi.com/impf/9ArHk5QgSaCV92n0W_V0AiB9qcVaaF2dSBGhKQ/LgiiF_lk2DM.jpg?size=600x800&quality=96&sign=a44427270a7788fdb76b0e2589d51cb5&c_uniq_tag=Z2_Y9Kv7_OViwTUaM3bpDBIMDjhy3tNefi1L34Ns5Z0&type=album'},\n",
      " {'date': 1594036429,\n",
      "  'file_name': '9.jpg',\n",
      "  'size': 'y',\n",
      "  'url': 'https://sun9-86.userapi.com/impf/9ArHk5QgSaCV92n0W_V0AiB9qcVaaF2dSBGhKQ/LgiiF_lk2DM.jpg?size=600x800&quality=96&sign=a44427270a7788fdb76b0e2589d51cb5&c_uniq_tag=Z2_Y9Kv7_OViwTUaM3bpDBIMDjhy3tNefi1L34Ns5Z0&type=album'},\n",
      " {'date': 1594036496,\n",
      "  'file_name': '9_1594036496.jpg',\n",
      "  'size': 'w',\n",
      "  'url': 'https://sun9-48.userapi.com/impf/hZBImqkCXbzy3VGIhn30Jj4P3RWurerkaZZSnw/oDCgWwpSe34.jpg?size=788x1096&quality=96&sign=c4dd55f91ae178aa6f6ad6c14ce6cd4c&c_uniq_tag=u7Tqeio-kEtrWqLTPywWPFhhGHGuWuqONBJ7tdKCUAs&type=album'}]\n"
     ]
    }
   ],
   "source": [
    "pprint(info)"
   ]
  },
  {
   "cell_type": "code",
   "execution_count": null,
   "metadata": {},
   "outputs": [],
   "source": []
  }
 ],
 "metadata": {
  "kernelspec": {
   "display_name": "Python 3",
   "language": "python",
   "name": "python3"
  },
  "language_info": {
   "codemirror_mode": {
    "name": "ipython",
    "version": 3
   },
   "file_extension": ".py",
   "mimetype": "text/x-python",
   "name": "python",
   "nbconvert_exporter": "python",
   "pygments_lexer": "ipython3",
   "version": "3.6.2"
  }
 },
 "nbformat": 4,
 "nbformat_minor": 2
}
